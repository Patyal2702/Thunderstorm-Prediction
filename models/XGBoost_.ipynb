{
  "cells": [
    {
      "cell_type": "code",
      "execution_count": null,
      "metadata": {
        "id": "i3Jl-N8EWhHH"
      },
      "outputs": [],
      "source": [
        "import pandas as pd\n",
        "import numpy as np\n",
        "from numpy import loadtxt\n",
        "from xgboost import XGBClassifier\n",
        "from sklearn.model_selection import train_test_split\n",
        "from sklearn.metrics import accuracy_score,f1_score,precision_score,recall_score\n",
        "from sklearn.metrics import confusion_matrix\n",
        "from sklearn.metrics import classification_report\n",
        "from sklearn.metrics import roc_auc_score\n",
        "import warnings\n",
        "warnings.filterwarnings(\"ignore\")\n",
        "import xgboost\n",
        "from xgboost import XGBClassifier"
      ]
    },
    {
      "cell_type": "code",
      "source": [
        "!ls"
      ],
      "metadata": {
        "colab": {
          "base_uri": "https://localhost:8080/"
        },
        "id": "aBUJOgA9dtsz",
        "outputId": "45a90f3e-bf18-4745-bbaf-81ebe975af38"
      },
      "execution_count": null,
      "outputs": [
        {
          "output_type": "stream",
          "name": "stdout",
          "text": [
            "sample_data  t_ws_h_p_ts.xlsx\n"
          ]
        }
      ]
    },
    {
      "cell_type": "code",
      "execution_count": null,
      "metadata": {
        "id": "e_xbFqQNWhHL",
        "colab": {
          "base_uri": "https://localhost:8080/",
          "height": 206
        },
        "outputId": "ccb623f0-92a6-4f68-9914-d7cdb5743a10"
      },
      "outputs": [
        {
          "output_type": "execute_result",
          "data": {
            "text/plain": [
              "    T  WS   H     P  TS\n",
              "0  37  11  33  1006   1\n",
              "1  33  15  49  1006   1\n",
              "2  36  17  33  1009   1\n",
              "3  36  11  33  1010   1\n",
              "4  41  11  27  1010   1"
            ],
            "text/html": [
              "\n",
              "  <div id=\"df-484bdd36-9f98-444a-903e-023f0aa72dd7\">\n",
              "    <div class=\"colab-df-container\">\n",
              "      <div>\n",
              "<style scoped>\n",
              "    .dataframe tbody tr th:only-of-type {\n",
              "        vertical-align: middle;\n",
              "    }\n",
              "\n",
              "    .dataframe tbody tr th {\n",
              "        vertical-align: top;\n",
              "    }\n",
              "\n",
              "    .dataframe thead th {\n",
              "        text-align: right;\n",
              "    }\n",
              "</style>\n",
              "<table border=\"1\" class=\"dataframe\">\n",
              "  <thead>\n",
              "    <tr style=\"text-align: right;\">\n",
              "      <th></th>\n",
              "      <th>T</th>\n",
              "      <th>WS</th>\n",
              "      <th>H</th>\n",
              "      <th>P</th>\n",
              "      <th>TS</th>\n",
              "    </tr>\n",
              "  </thead>\n",
              "  <tbody>\n",
              "    <tr>\n",
              "      <th>0</th>\n",
              "      <td>37</td>\n",
              "      <td>11</td>\n",
              "      <td>33</td>\n",
              "      <td>1006</td>\n",
              "      <td>1</td>\n",
              "    </tr>\n",
              "    <tr>\n",
              "      <th>1</th>\n",
              "      <td>33</td>\n",
              "      <td>15</td>\n",
              "      <td>49</td>\n",
              "      <td>1006</td>\n",
              "      <td>1</td>\n",
              "    </tr>\n",
              "    <tr>\n",
              "      <th>2</th>\n",
              "      <td>36</td>\n",
              "      <td>17</td>\n",
              "      <td>33</td>\n",
              "      <td>1009</td>\n",
              "      <td>1</td>\n",
              "    </tr>\n",
              "    <tr>\n",
              "      <th>3</th>\n",
              "      <td>36</td>\n",
              "      <td>11</td>\n",
              "      <td>33</td>\n",
              "      <td>1010</td>\n",
              "      <td>1</td>\n",
              "    </tr>\n",
              "    <tr>\n",
              "      <th>4</th>\n",
              "      <td>41</td>\n",
              "      <td>11</td>\n",
              "      <td>27</td>\n",
              "      <td>1010</td>\n",
              "      <td>1</td>\n",
              "    </tr>\n",
              "  </tbody>\n",
              "</table>\n",
              "</div>\n",
              "      <button class=\"colab-df-convert\" onclick=\"convertToInteractive('df-484bdd36-9f98-444a-903e-023f0aa72dd7')\"\n",
              "              title=\"Convert this dataframe to an interactive table.\"\n",
              "              style=\"display:none;\">\n",
              "        \n",
              "  <svg xmlns=\"http://www.w3.org/2000/svg\" height=\"24px\"viewBox=\"0 0 24 24\"\n",
              "       width=\"24px\">\n",
              "    <path d=\"M0 0h24v24H0V0z\" fill=\"none\"/>\n",
              "    <path d=\"M18.56 5.44l.94 2.06.94-2.06 2.06-.94-2.06-.94-.94-2.06-.94 2.06-2.06.94zm-11 1L8.5 8.5l.94-2.06 2.06-.94-2.06-.94L8.5 2.5l-.94 2.06-2.06.94zm10 10l.94 2.06.94-2.06 2.06-.94-2.06-.94-.94-2.06-.94 2.06-2.06.94z\"/><path d=\"M17.41 7.96l-1.37-1.37c-.4-.4-.92-.59-1.43-.59-.52 0-1.04.2-1.43.59L10.3 9.45l-7.72 7.72c-.78.78-.78 2.05 0 2.83L4 21.41c.39.39.9.59 1.41.59.51 0 1.02-.2 1.41-.59l7.78-7.78 2.81-2.81c.8-.78.8-2.07 0-2.86zM5.41 20L4 18.59l7.72-7.72 1.47 1.35L5.41 20z\"/>\n",
              "  </svg>\n",
              "      </button>\n",
              "      \n",
              "  <style>\n",
              "    .colab-df-container {\n",
              "      display:flex;\n",
              "      flex-wrap:wrap;\n",
              "      gap: 12px;\n",
              "    }\n",
              "\n",
              "    .colab-df-convert {\n",
              "      background-color: #E8F0FE;\n",
              "      border: none;\n",
              "      border-radius: 50%;\n",
              "      cursor: pointer;\n",
              "      display: none;\n",
              "      fill: #1967D2;\n",
              "      height: 32px;\n",
              "      padding: 0 0 0 0;\n",
              "      width: 32px;\n",
              "    }\n",
              "\n",
              "    .colab-df-convert:hover {\n",
              "      background-color: #E2EBFA;\n",
              "      box-shadow: 0px 1px 2px rgba(60, 64, 67, 0.3), 0px 1px 3px 1px rgba(60, 64, 67, 0.15);\n",
              "      fill: #174EA6;\n",
              "    }\n",
              "\n",
              "    [theme=dark] .colab-df-convert {\n",
              "      background-color: #3B4455;\n",
              "      fill: #D2E3FC;\n",
              "    }\n",
              "\n",
              "    [theme=dark] .colab-df-convert:hover {\n",
              "      background-color: #434B5C;\n",
              "      box-shadow: 0px 1px 3px 1px rgba(0, 0, 0, 0.15);\n",
              "      filter: drop-shadow(0px 1px 2px rgba(0, 0, 0, 0.3));\n",
              "      fill: #FFFFFF;\n",
              "    }\n",
              "  </style>\n",
              "\n",
              "      <script>\n",
              "        const buttonEl =\n",
              "          document.querySelector('#df-484bdd36-9f98-444a-903e-023f0aa72dd7 button.colab-df-convert');\n",
              "        buttonEl.style.display =\n",
              "          google.colab.kernel.accessAllowed ? 'block' : 'none';\n",
              "\n",
              "        async function convertToInteractive(key) {\n",
              "          const element = document.querySelector('#df-484bdd36-9f98-444a-903e-023f0aa72dd7');\n",
              "          const dataTable =\n",
              "            await google.colab.kernel.invokeFunction('convertToInteractive',\n",
              "                                                     [key], {});\n",
              "          if (!dataTable) return;\n",
              "\n",
              "          const docLinkHtml = 'Like what you see? Visit the ' +\n",
              "            '<a target=\"_blank\" href=https://colab.research.google.com/notebooks/data_table.ipynb>data table notebook</a>'\n",
              "            + ' to learn more about interactive tables.';\n",
              "          element.innerHTML = '';\n",
              "          dataTable['output_type'] = 'display_data';\n",
              "          await google.colab.output.renderOutput(dataTable, element);\n",
              "          const docLink = document.createElement('div');\n",
              "          docLink.innerHTML = docLinkHtml;\n",
              "          element.appendChild(docLink);\n",
              "        }\n",
              "      </script>\n",
              "    </div>\n",
              "  </div>\n",
              "  "
            ]
          },
          "metadata": {},
          "execution_count": 567
        }
      ],
      "source": [
        "df = pd.read_excel(\"t_ws_h_p_ts.xlsx\")\n",
        "df.head()"
      ]
    },
    {
      "cell_type": "code",
      "source": [
        "target_col = 'TS'\n",
        "X = df.loc[: ,df.columns !=target_col]\n",
        "Y = df.loc[:, target_col]\n",
        "print(X.head())"
      ],
      "metadata": {
        "id": "o_Ui2xhcedKy",
        "colab": {
          "base_uri": "https://localhost:8080/"
        },
        "outputId": "7a795b87-19dc-419e-ae1d-11b4a15bbc40"
      },
      "execution_count": null,
      "outputs": [
        {
          "output_type": "stream",
          "name": "stdout",
          "text": [
            "    T  WS   H     P\n",
            "0  37  11  33  1006\n",
            "1  33  15  49  1006\n",
            "2  36  17  33  1009\n",
            "3  36  11  33  1010\n",
            "4  41  11  27  1010\n"
          ]
        }
      ]
    },
    {
      "cell_type": "code",
      "execution_count": null,
      "metadata": {
        "id": "2zeGsiQxWhHS",
        "colab": {
          "base_uri": "https://localhost:8080/"
        },
        "outputId": "05e043b8-759f-4c21-b066-359977264b63"
      },
      "outputs": [
        {
          "output_type": "execute_result",
          "data": {
            "text/plain": [
              "((450, 4), (222, 4), (450,), (222,))"
            ]
          },
          "metadata": {},
          "execution_count": 569
        }
      ],
      "source": [
        "X_train, X_valid, y_train, y_valid = train_test_split(X, Y, test_size=0.33, random_state=0)\n",
        "X_train.shape, X_valid.shape, y_train.shape, y_valid.shape"
      ]
    },
    {
      "cell_type": "code",
      "execution_count": null,
      "metadata": {
        "id": "M4zpMmzKWhHT",
        "outputId": "f804e991-5d72-44c2-8164-b45e767445f2",
        "colab": {
          "base_uri": "https://localhost:8080/"
        }
      },
      "outputs": [
        {
          "output_type": "stream",
          "name": "stdout",
          "text": [
            "[0]\tvalidation_0-auc:0.587371\n",
            "Will train until validation_0-auc hasn't improved in 10 rounds.\n",
            "[1]\tvalidation_0-auc:0.730257\n",
            "[2]\tvalidation_0-auc:0.731637\n",
            "[3]\tvalidation_0-auc:0.786787\n",
            "[4]\tvalidation_0-auc:0.788045\n",
            "[5]\tvalidation_0-auc:0.801599\n",
            "[6]\tvalidation_0-auc:0.819495\n",
            "[7]\tvalidation_0-auc:0.813489\n",
            "[8]\tvalidation_0-auc:0.805779\n",
            "[9]\tvalidation_0-auc:0.797176\n",
            "[10]\tvalidation_0-auc:0.792428\n",
            "[11]\tvalidation_0-auc:0.794457\n",
            "[12]\tvalidation_0-auc:0.797378\n",
            "[13]\tvalidation_0-auc:0.804886\n",
            "[14]\tvalidation_0-auc:0.812434\n",
            "[15]\tvalidation_0-auc:0.813733\n",
            "[16]\tvalidation_0-auc:0.81495\n",
            "Stopping. Best iteration:\n",
            "[6]\tvalidation_0-auc:0.819495\n",
            "\n"
          ]
        },
        {
          "output_type": "execute_result",
          "data": {
            "text/plain": [
              "XGBClassifier(colsample_bytree=0.5, eval_metric='auc', max_depth=5,\n",
              "              n_estimators=500, subsample=0.5, verbosit=1)"
            ]
          },
          "metadata": {},
          "execution_count": 570
        }
      ],
      "source": [
        "model = XGBClassifier(learning_rate=0.1,\n",
        "                      max_depth=5,\n",
        "                      n_estimators=500,\n",
        "                      subsample=0.5,\n",
        "                      colsample_bytree=0.5,\n",
        "                      eval_metric='auc',\n",
        "                      verbosit=1)\n",
        "eval_set = [(X_valid,y_valid)]\n",
        "model.fit(X_train, y_train,early_stopping_rounds=10,eval_set=eval_set,verbose=True)"
      ]
    },
    {
      "cell_type": "code",
      "execution_count": null,
      "metadata": {
        "id": "t5sbjixxWhHU"
      },
      "outputs": [],
      "source": [
        "y_pred = model.predict(X_valid)\n",
        "predictions = [round(value) for value in y_pred]"
      ]
    },
    {
      "cell_type": "code",
      "source": [
        "print(f1_score(y_valid, predictions))"
      ],
      "metadata": {
        "id": "7BsDYvlWdFpB",
        "colab": {
          "base_uri": "https://localhost:8080/"
        },
        "outputId": "e13a3b99-1b91-45cb-e9e8-85e49d9e5c2f"
      },
      "execution_count": null,
      "outputs": [
        {
          "output_type": "stream",
          "name": "stdout",
          "text": [
            "0.7246376811594203\n"
          ]
        }
      ]
    },
    {
      "cell_type": "code",
      "execution_count": null,
      "metadata": {
        "id": "uobFqEoYWhHV",
        "outputId": "72fe1dc7-c0e2-465e-d298-9cf14325209e",
        "colab": {
          "base_uri": "https://localhost:8080/"
        }
      },
      "outputs": [
        {
          "output_type": "stream",
          "name": "stdout",
          "text": [
            "accuracy\n",
            "0.7432432432432432\n"
          ]
        }
      ],
      "source": [
        "# evaluate predictions\n",
        "print(\"accuracy\")\n",
        "print(accuracy_score(y_valid, predictions))"
      ]
    },
    {
      "cell_type": "code",
      "source": [
        "confusion_matrix(y_valid,y_pred)"
      ],
      "metadata": {
        "colab": {
          "base_uri": "https://localhost:8080/"
        },
        "id": "Ipx1ihwZVVN_",
        "outputId": "1d0fbd77-abcd-4d71-febc-7cb3ab9cc400"
      },
      "execution_count": null,
      "outputs": [
        {
          "output_type": "execute_result",
          "data": {
            "text/plain": [
              "array([[90, 21],\n",
              "       [36, 75]])"
            ]
          },
          "metadata": {},
          "execution_count": 574
        }
      ]
    },
    {
      "cell_type": "code",
      "source": [
        "tn,fp,fn,tp=confusion_matrix(y_valid,y_pred).ravel()\n",
        "(tn,fp,fn,tp)"
      ],
      "metadata": {
        "colab": {
          "base_uri": "https://localhost:8080/"
        },
        "id": "GtxUGjrAVYZI",
        "outputId": "12052567-8e4e-4b93-e7fa-c1fa591fcff9"
      },
      "execution_count": null,
      "outputs": [
        {
          "output_type": "execute_result",
          "data": {
            "text/plain": [
              "(90, 21, 36, 75)"
            ]
          },
          "metadata": {},
          "execution_count": 575
        }
      ]
    },
    {
      "cell_type": "code",
      "source": [
        "matrix=classification_report(y_valid,y_pred)\n",
        "print('classification report : \\n',matrix)"
      ],
      "metadata": {
        "colab": {
          "base_uri": "https://localhost:8080/"
        },
        "id": "16QDUAH2VaAg",
        "outputId": "ac9b0032-036d-4202-b4f2-0341c5b8ed35"
      },
      "execution_count": null,
      "outputs": [
        {
          "output_type": "stream",
          "name": "stdout",
          "text": [
            "classification report : \n",
            "               precision    recall  f1-score   support\n",
            "\n",
            "           0       0.71      0.81      0.76       111\n",
            "           1       0.78      0.68      0.72       111\n",
            "\n",
            "    accuracy                           0.74       222\n",
            "   macro avg       0.75      0.74      0.74       222\n",
            "weighted avg       0.75      0.74      0.74       222\n",
            "\n"
          ]
        }
      ]
    },
    {
      "cell_type": "code",
      "source": [
        "print('Precision: %f' % precision_score(y_valid, y_pred))\n",
        "print('Recall: %f' % recall_score(y_valid, y_pred))"
      ],
      "metadata": {
        "colab": {
          "base_uri": "https://localhost:8080/"
        },
        "id": "YujxdHiiYjMO",
        "outputId": "bb35f1df-c1b7-4788-c7a4-8a705868106f"
      },
      "execution_count": null,
      "outputs": [
        {
          "output_type": "stream",
          "name": "stdout",
          "text": [
            "Precision: 0.781250\n",
            "Recall: 0.675676\n"
          ]
        }
      ]
    },
    {
      "cell_type": "code",
      "source": [
        "from sklearn.preprocessing import StandardScaler\n",
        "from sklearn.svm import SVC\n",
        "from sklearn.metrics import confusion_matrix\n",
        "from sklearn.metrics import precision_score, recall_score, f1_score, accuracy_score\n",
        "import matplotlib.pyplot as plt\n",
        "#\n",
        "# Standardize the data set\n",
        "#\n",
        "sc = StandardScaler()\n",
        "sc.fit(X_train)\n",
        "X_train_std = sc.transform(X_train)\n",
        "X_test_std = sc.transform(X_valid)\n",
        "#\n",
        "# Fit the SVC model\n",
        "#\n",
        "svc = SVC(kernel='linear', C=10.0, random_state=1)\n",
        "svc.fit(X_train, y_train)\n",
        "\n",
        "# Calculate the confusion matrix\n",
        "#\n",
        "conf_matrix = confusion_matrix(y_valid,y_pred)\n",
        "#\n",
        "# Print the confusion matrix using Matplotlib\n",
        "#\n",
        "fig, ax = plt.subplots(figsize=(5, 5))\n",
        "ax.matshow(conf_matrix, cmap=plt.cm.Oranges, alpha=0.3)\n",
        "for i in range(conf_matrix.shape[0]):\n",
        "    for j in range(conf_matrix.shape[1]):\n",
        "        ax.text(x=j, y=i,s=conf_matrix[i, j], va='center', ha='center', size='xx-large')\n",
        " \n",
        "plt.xlabel('Predictions', fontsize=18)\n",
        "plt.ylabel('Actuals', fontsize=18)\n",
        "plt.title('Confusion Matrix', fontsize=18)\n",
        "plt.show()"
      ],
      "metadata": {
        "id": "UYq8_cQFZjFu",
        "colab": {
          "base_uri": "https://localhost:8080/",
          "height": 358
        },
        "outputId": "fb8e70cb-c686-4776-f18a-efdf0f5aec3d"
      },
      "execution_count": null,
      "outputs": [
        {
          "output_type": "display_data",
          "data": {
            "text/plain": [
              "<Figure size 360x360 with 1 Axes>"
            ],
            "image/png": "[encoded data removed]"
          },
          "metadata": {
            "needs_background": "light"
          }
        }
      ]
    },
    {
      "cell_type": "code",
      "source": [
        "from xgboost import plot_importance\n",
        "from matplotlib import pyplot\n",
        "plot_importance(model)\n",
        "pyplot.show()"
      ],
      "metadata": {
        "colab": {
          "base_uri": "https://localhost:8080/",
          "height": 295
        },
        "id": "1h9Vq-U8uAeB",
        "outputId": "28c48b88-6601-4075-94a5-418c18b9ee63"
      },
      "execution_count": null,
      "outputs": [
        {
          "output_type": "display_data",
          "data": {
            "text/plain": [
              "<Figure size 432x288 with 1 Axes>"
            ],
            "image/png": "[encoded data removed]"
          },
          "metadata": {
            "needs_background": "light"
          }
        }
      ]
    }
  ],
  "metadata": {
    "kernelspec": {
      "display_name": "Python 3.9.12 ('base')",
      "language": "python",
      "name": "python3"
    },
    "language_info": {
      "codemirror_mode": {
        "name": "ipython",
        "version": 3
      },
      "file_extension": ".py",
      "mimetype": "text/x-python",
      "name": "python",
      "nbconvert_exporter": "python",
      "pygments_lexer": "ipython3",
      "version": "3.9.12"
    },
    "orig_nbformat": 4,
    "vscode": {
      "interpreter": {
        "hash": "4dc1c226735832a1fb3174c4bfe6b1c107114030f3b89b79a2cc73f47270a355"
      }
    },
    "colab": {
      "provenance": []
    }
  },
  "nbformat": 4,
  "nbformat_minor": 0
}