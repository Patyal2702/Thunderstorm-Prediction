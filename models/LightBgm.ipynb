{
  "nbformat": 4,
  "nbformat_minor": 0,
  "metadata": {
    "colab": {
      "provenance": []
    },
    "kernelspec": {
      "name": "python3",
      "display_name": "Python 3"
    },
    "language_info": {
      "name": "python"
    }
  },
  "cells": [
    {
      "cell_type": "code",
      "execution_count": null,
      "metadata": {
        "id": "3o061_bCL__P"
      },
      "outputs": [],
      "source": [
        "import numpy as np \n",
        "import pandas as pd \n",
        "\n",
        "from sklearn.model_selection import train_test_split\n",
        "import lightgbm\n",
        "from sklearn.metrics import roc_auc_score\n",
        "from sklearn.metrics import f1_score,accuracy_score,precision_score,recall_score\n",
        "from sklearn.metrics import confusion_matrix\n",
        "from sklearn.metrics import classification_report\n",
        "import matplotlib.pylab as plt"
      ]
    },
    {
      "cell_type": "code",
      "source": [
        "!ls"
      ],
      "metadata": {
        "colab": {
          "base_uri": "https://localhost:8080/"
        },
        "id": "migNK_b1OcFc",
        "outputId": "ba58639c-7cf2-4075-88a6-388453b96f1c"
      },
      "execution_count": null,
      "outputs": [
        {
          "output_type": "stream",
          "name": "stdout",
          "text": [
            "sample_data  t_ws_h_p_ts.xlsx\n"
          ]
        }
      ]
    },
    {
      "cell_type": "code",
      "source": [
        "file_loc = 't_ws_h_p_ts.xlsx'\n",
        "df = pd.read_excel(file_loc)\n",
        "df.head()"
      ],
      "metadata": {
        "colab": {
          "base_uri": "https://localhost:8080/",
          "height": 206
        },
        "id": "gMiirSudPDOh",
        "outputId": "ffc174be-4968-4268-9cb1-2751381351a0"
      },
      "execution_count": null,
      "outputs": [
        {
          "output_type": "execute_result",
          "data": {
            "text/plain": [
              "    T  WS   H     P  TS\n",
              "0  37  11  33  1006   1\n",
              "1  33  15  49  1006   1\n",
              "2  36  17  33  1009   1\n",
              "3  36  11  33  1010   1\n",
              "4  41  11  27  1010   1"
            ],
            "text/html": [
              "\n",
              "  <div id=\"df-e0181742-a9d1-4282-95fd-7757fa9b1bbd\">\n",
              "    <div class=\"colab-df-container\">\n",
              "      <div>\n",
              "<style scoped>\n",
              "    .dataframe tbody tr th:only-of-type {\n",
              "        vertical-align: middle;\n",
              "    }\n",
              "\n",
              "    .dataframe tbody tr th {\n",
              "        vertical-align: top;\n",
              "    }\n",
              "\n",
              "    .dataframe thead th {\n",
              "        text-align: right;\n",
              "    }\n",
              "</style>\n",
              "<table border=\"1\" class=\"dataframe\">\n",
              "  <thead>\n",
              "    <tr style=\"text-align: right;\">\n",
              "      <th></th>\n",
              "      <th>T</th>\n",
              "      <th>WS</th>\n",
              "      <th>H</th>\n",
              "      <th>P</th>\n",
              "      <th>TS</th>\n",
              "    </tr>\n",
              "  </thead>\n",
              "  <tbody>\n",
              "    <tr>\n",
              "      <th>0</th>\n",
              "      <td>37</td>\n",
              "      <td>11</td>\n",
              "      <td>33</td>\n",
              "      <td>1006</td>\n",
              "      <td>1</td>\n",
              "    </tr>\n",
              "    <tr>\n",
              "      <th>1</th>\n",
              "      <td>33</td>\n",
              "      <td>15</td>\n",
              "      <td>49</td>\n",
              "      <td>1006</td>\n",
              "      <td>1</td>\n",
              "    </tr>\n",
              "    <tr>\n",
              "      <th>2</th>\n",
              "      <td>36</td>\n",
              "      <td>17</td>\n",
              "      <td>33</td>\n",
              "      <td>1009</td>\n",
              "      <td>1</td>\n",
              "    </tr>\n",
              "    <tr>\n",
              "      <th>3</th>\n",
              "      <td>36</td>\n",
              "      <td>11</td>\n",
              "      <td>33</td>\n",
              "      <td>1010</td>\n",
              "      <td>1</td>\n",
              "    </tr>\n",
              "    <tr>\n",
              "      <th>4</th>\n",
              "      <td>41</td>\n",
              "      <td>11</td>\n",
              "      <td>27</td>\n",
              "      <td>1010</td>\n",
              "      <td>1</td>\n",
              "    </tr>\n",
              "  </tbody>\n",
              "</table>\n",
              "</div>\n",
              "      <button class=\"colab-df-convert\" onclick=\"convertToInteractive('df-e0181742-a9d1-4282-95fd-7757fa9b1bbd')\"\n",
              "              title=\"Convert this dataframe to an interactive table.\"\n",
              "              style=\"display:none;\">\n",
              "        \n",
              "  <svg xmlns=\"http://www.w3.org/2000/svg\" height=\"24px\"viewBox=\"0 0 24 24\"\n",
              "       width=\"24px\">\n",
              "    <path d=\"M0 0h24v24H0V0z\" fill=\"none\"/>\n",
              "    <path d=\"M18.56 5.44l.94 2.06.94-2.06 2.06-.94-2.06-.94-.94-2.06-.94 2.06-2.06.94zm-11 1L8.5 8.5l.94-2.06 2.06-.94-2.06-.94L8.5 2.5l-.94 2.06-2.06.94zm10 10l.94 2.06.94-2.06 2.06-.94-2.06-.94-.94-2.06-.94 2.06-2.06.94z\"/><path d=\"M17.41 7.96l-1.37-1.37c-.4-.4-.92-.59-1.43-.59-.52 0-1.04.2-1.43.59L10.3 9.45l-7.72 7.72c-.78.78-.78 2.05 0 2.83L4 21.41c.39.39.9.59 1.41.59.51 0 1.02-.2 1.41-.59l7.78-7.78 2.81-2.81c.8-.78.8-2.07 0-2.86zM5.41 20L4 18.59l7.72-7.72 1.47 1.35L5.41 20z\"/>\n",
              "  </svg>\n",
              "      </button>\n",
              "      \n",
              "  <style>\n",
              "    .colab-df-container {\n",
              "      display:flex;\n",
              "      flex-wrap:wrap;\n",
              "      gap: 12px;\n",
              "    }\n",
              "\n",
              "    .colab-df-convert {\n",
              "      background-color: #E8F0FE;\n",
              "      border: none;\n",
              "      border-radius: 50%;\n",
              "      cursor: pointer;\n",
              "      display: none;\n",
              "      fill: #1967D2;\n",
              "      height: 32px;\n",
              "      padding: 0 0 0 0;\n",
              "      width: 32px;\n",
              "    }\n",
              "\n",
              "    .colab-df-convert:hover {\n",
              "      background-color: #E2EBFA;\n",
              "      box-shadow: 0px 1px 2px rgba(60, 64, 67, 0.3), 0px 1px 3px 1px rgba(60, 64, 67, 0.15);\n",
              "      fill: #174EA6;\n",
              "    }\n",
              "\n",
              "    [theme=dark] .colab-df-convert {\n",
              "      background-color: #3B4455;\n",
              "      fill: #D2E3FC;\n",
              "    }\n",
              "\n",
              "    [theme=dark] .colab-df-convert:hover {\n",
              "      background-color: #434B5C;\n",
              "      box-shadow: 0px 1px 3px 1px rgba(0, 0, 0, 0.15);\n",
              "      filter: drop-shadow(0px 1px 2px rgba(0, 0, 0, 0.3));\n",
              "      fill: #FFFFFF;\n",
              "    }\n",
              "  </style>\n",
              "\n",
              "      <script>\n",
              "        const buttonEl =\n",
              "          document.querySelector('#df-e0181742-a9d1-4282-95fd-7757fa9b1bbd button.colab-df-convert');\n",
              "        buttonEl.style.display =\n",
              "          google.colab.kernel.accessAllowed ? 'block' : 'none';\n",
              "\n",
              "        async function convertToInteractive(key) {\n",
              "          const element = document.querySelector('#df-e0181742-a9d1-4282-95fd-7757fa9b1bbd');\n",
              "          const dataTable =\n",
              "            await google.colab.kernel.invokeFunction('convertToInteractive',\n",
              "                                                     [key], {});\n",
              "          if (!dataTable) return;\n",
              "\n",
              "          const docLinkHtml = 'Like what you see? Visit the ' +\n",
              "            '<a target=\"_blank\" href=https://colab.research.google.com/notebooks/data_table.ipynb>data table notebook</a>'\n",
              "            + ' to learn more about interactive tables.';\n",
              "          element.innerHTML = '';\n",
              "          dataTable['output_type'] = 'display_data';\n",
              "          await google.colab.output.renderOutput(dataTable, element);\n",
              "          const docLink = document.createElement('div');\n",
              "          docLink.innerHTML = docLinkHtml;\n",
              "          element.appendChild(docLink);\n",
              "        }\n",
              "      </script>\n",
              "    </div>\n",
              "  </div>\n",
              "  "
            ]
          },
          "metadata": {},
          "execution_count": 174
        }
      ]
    },
    {
      "cell_type": "code",
      "source": [
        "target_col = 'TS'\n",
        "X = df.loc[: ,df.columns !=target_col]\n",
        "y = df.loc[:, target_col]"
      ],
      "metadata": {
        "id": "8krUWQONPKYe"
      },
      "execution_count": null,
      "outputs": []
    },
    {
      "cell_type": "code",
      "source": [
        "print(X.head())\n"
      ],
      "metadata": {
        "colab": {
          "base_uri": "https://localhost:8080/"
        },
        "id": "G39_ymzaPQtO",
        "outputId": "c700cd06-9c5d-4c55-f111-de02be0a50e0"
      },
      "execution_count": null,
      "outputs": [
        {
          "output_type": "stream",
          "name": "stdout",
          "text": [
            "    T  WS   H     P\n",
            "0  37  11  33  1006\n",
            "1  33  15  49  1006\n",
            "2  36  17  33  1009\n",
            "3  36  11  33  1010\n",
            "4  41  11  27  1010\n"
          ]
        }
      ]
    },
    {
      "cell_type": "code",
      "source": [
        "print(y.head())"
      ],
      "metadata": {
        "colab": {
          "base_uri": "https://localhost:8080/"
        },
        "id": "SJm4nsOXPZL_",
        "outputId": "d2d3811b-274b-49a2-b949-edfe8d2d24af"
      },
      "execution_count": null,
      "outputs": [
        {
          "output_type": "stream",
          "name": "stdout",
          "text": [
            "0    1\n",
            "1    1\n",
            "2    1\n",
            "3    1\n",
            "4    1\n",
            "Name: TS, dtype: int64\n"
          ]
        }
      ]
    },
    {
      "cell_type": "code",
      "source": [
        "X_train, X_test, y_train, y_test = train_test_split(X, y, test_size=0.33, random_state=0)\n",
        "X_train.shape, X_test.shape, y_train.shape, y_test.shape"
      ],
      "metadata": {
        "colab": {
          "base_uri": "https://localhost:8080/"
        },
        "id": "1DFcD5CgPfRd",
        "outputId": "a08b1e1f-bc89-454d-c697-c64618d6f391"
      },
      "execution_count": null,
      "outputs": [
        {
          "output_type": "execute_result",
          "data": {
            "text/plain": [
              "((450, 4), (222, 4), (450,), (222,))"
            ]
          },
          "metadata": {},
          "execution_count": 178
        }
      ]
    },
    {
      "cell_type": "code",
      "source": [
        "train_data = lightgbm.Dataset(X_train, label=y_train)\n",
        "valid_data = lightgbm.Dataset(X_test, label=y_test)"
      ],
      "metadata": {
        "id": "q__KImEmPj3O"
      },
      "execution_count": null,
      "outputs": []
    },
    {
      "cell_type": "code",
      "source": [
        "parameters = {'objective': 'binary',\n",
        "              'metric': 'auc',\n",
        "              'boosting': 'gbdt',\n",
        "              'num_leaves': 63,\n",
        "              'feature_fraction': 0.5,\n",
        "              'bagging_fraction': 0.5,\n",
        "              'bagging_freq': 20,\n",
        "              'learning_rate': 0.01,\n",
        "              'verbose': -1\n",
        "             }"
      ],
      "metadata": {
        "id": "VGz-8GKZPqO-"
      },
      "execution_count": null,
      "outputs": []
    },
    {
      "cell_type": "code",
      "source": [
        "model_lgbm = lightgbm.train(parameters,\n",
        "                            train_data,\n",
        "                            valid_sets=valid_data,\n",
        "                            num_boost_round=5000,\n",
        "                            early_stopping_rounds=50)"
      ],
      "metadata": {
        "colab": {
          "base_uri": "https://localhost:8080/"
        },
        "id": "nDTK2_kCPwpu",
        "outputId": "10804662-1fe7-4c62-921b-68db651298df"
      },
      "execution_count": null,
      "outputs": [
        {
          "output_type": "stream",
          "name": "stdout",
          "text": [
            "[1]\tvalid_0's auc: 0.798474\n",
            "Training until validation scores don't improve for 50 rounds.\n",
            "[2]\tvalid_0's auc: 0.818075\n",
            "[3]\tvalid_0's auc: 0.819373\n",
            "[4]\tvalid_0's auc: 0.818075\n",
            "[5]\tvalid_0's auc: 0.818886\n",
            "[6]\tvalid_0's auc: 0.818075\n",
            "[7]\tvalid_0's auc: 0.821159\n",
            "[8]\tvalid_0's auc: 0.818156\n",
            "[9]\tvalid_0's auc: 0.818724\n",
            "[10]\tvalid_0's auc: 0.818156\n",
            "[11]\tvalid_0's auc: 0.819536\n",
            "[12]\tvalid_0's auc: 0.818237\n",
            "[13]\tvalid_0's auc: 0.819373\n",
            "[14]\tvalid_0's auc: 0.817913\n",
            "[15]\tvalid_0's auc: 0.817913\n",
            "[16]\tvalid_0's auc: 0.816857\n",
            "[17]\tvalid_0's auc: 0.815802\n",
            "[18]\tvalid_0's auc: 0.81637\n",
            "[19]\tvalid_0's auc: 0.81637\n",
            "[20]\tvalid_0's auc: 0.817182\n",
            "[21]\tvalid_0's auc: 0.817628\n",
            "[22]\tvalid_0's auc: 0.820388\n",
            "[23]\tvalid_0's auc: 0.819171\n",
            "[24]\tvalid_0's auc: 0.817953\n",
            "[25]\tvalid_0's auc: 0.817466\n",
            "[26]\tvalid_0's auc: 0.816573\n",
            "[27]\tvalid_0's auc: 0.816492\n",
            "[28]\tvalid_0's auc: 0.816492\n",
            "[29]\tvalid_0's auc: 0.815031\n",
            "[30]\tvalid_0's auc: 0.814057\n",
            "[31]\tvalid_0's auc: 0.813408\n",
            "[32]\tvalid_0's auc: 0.811541\n",
            "[33]\tvalid_0's auc: 0.813651\n",
            "[34]\tvalid_0's auc: 0.811379\n",
            "[35]\tvalid_0's auc: 0.811217\n",
            "[36]\tvalid_0's auc: 0.810202\n",
            "[37]\tvalid_0's auc: 0.810689\n",
            "[38]\tvalid_0's auc: 0.809877\n",
            "[39]\tvalid_0's auc: 0.809309\n",
            "[40]\tvalid_0's auc: 0.808254\n",
            "[41]\tvalid_0's auc: 0.809188\n",
            "[42]\tvalid_0's auc: 0.809918\n",
            "[43]\tvalid_0's auc: 0.809593\n",
            "[44]\tvalid_0's auc: 0.811298\n",
            "[45]\tvalid_0's auc: 0.811947\n",
            "[46]\tvalid_0's auc: 0.812515\n",
            "[47]\tvalid_0's auc: 0.812759\n",
            "[48]\tvalid_0's auc: 0.813489\n",
            "[49]\tvalid_0's auc: 0.813895\n",
            "[50]\tvalid_0's auc: 0.813854\n",
            "[51]\tvalid_0's auc: 0.813773\n",
            "[52]\tvalid_0's auc: 0.814423\n",
            "[53]\tvalid_0's auc: 0.813854\n",
            "[54]\tvalid_0's auc: 0.814585\n",
            "[55]\tvalid_0's auc: 0.815072\n",
            "[56]\tvalid_0's auc: 0.814991\n",
            "[57]\tvalid_0's auc: 0.815802\n",
            "Early stopping, best iteration is:\n",
            "[7]\tvalid_0's auc: 0.821159\n"
          ]
        }
      ]
    },
    {
      "cell_type": "code",
      "source": [
        "y_train_pred = model_lgbm.predict(X_train)\n",
        "y_test_pred = model_lgbm.predict(X_test)\n",
        "\n",
        "print(\"AUC Train: {:.4f}\\nAUC Test: {:.4f}\".format(roc_auc_score(y_train, y_train_pred),\n",
        "                                                    roc_auc_score(y_test, y_test_pred)))"
      ],
      "metadata": {
        "colab": {
          "base_uri": "https://localhost:8080/"
        },
        "id": "kdrKyMo2PzQH",
        "outputId": "f6c28d8d-73b9-4672-dc5d-79e72b4a9e3e"
      },
      "execution_count": null,
      "outputs": [
        {
          "output_type": "stream",
          "name": "stdout",
          "text": [
            "AUC Train: 0.8569\n",
            "AUC Test: 0.8212\n"
          ]
        }
      ]
    },
    {
      "cell_type": "code",
      "source": [
        "f1_score(y_test,y_test_pred.round())"
      ],
      "metadata": {
        "colab": {
          "base_uri": "https://localhost:8080/"
        },
        "id": "aZ7dTny7P6kY",
        "outputId": "7339d530-7a4b-486f-eb52-189fbaeb8ede"
      },
      "execution_count": null,
      "outputs": [
        {
          "output_type": "execute_result",
          "data": {
            "text/plain": [
              "0.7123287671232876"
            ]
          },
          "metadata": {},
          "execution_count": 183
        }
      ]
    },
    {
      "cell_type": "code",
      "source": [
        "accuracy_score(y_test,y_test_pred.round())"
      ],
      "metadata": {
        "colab": {
          "base_uri": "https://localhost:8080/"
        },
        "id": "4sHLn3abQo3J",
        "outputId": "adb60b53-2ee2-4011-d7bd-3f4cd1e9441f"
      },
      "execution_count": null,
      "outputs": [
        {
          "output_type": "execute_result",
          "data": {
            "text/plain": [
              "0.7162162162162162"
            ]
          },
          "metadata": {},
          "execution_count": 184
        }
      ]
    },
    {
      "cell_type": "code",
      "source": [
        "confusion_matrix(y_test,y_test_pred.round())"
      ],
      "metadata": {
        "colab": {
          "base_uri": "https://localhost:8080/"
        },
        "id": "39xedrJ_Qzjt",
        "outputId": "45b317cb-21ae-4257-e31e-b0b0c82306f8"
      },
      "execution_count": null,
      "outputs": [
        {
          "output_type": "execute_result",
          "data": {
            "text/plain": [
              "array([[81, 30],\n",
              "       [33, 78]])"
            ]
          },
          "metadata": {},
          "execution_count": 185
        }
      ]
    },
    {
      "cell_type": "code",
      "source": [
        "print('Precision: %f' % precision_score(y_test, y_test_pred.round()))\n",
        "print('Recall: %f' % recall_score(y_test, y_test_pred.round()))"
      ],
      "metadata": {
        "colab": {
          "base_uri": "https://localhost:8080/"
        },
        "id": "fu76sFWsRig2",
        "outputId": "bca0e09f-4702-4b2b-c9d3-33e9fcd969b2"
      },
      "execution_count": null,
      "outputs": [
        {
          "output_type": "stream",
          "name": "stdout",
          "text": [
            "Precision: 0.722222\n",
            "Recall: 0.702703\n"
          ]
        }
      ]
    },
    {
      "cell_type": "code",
      "source": [
        "!pip install shap\n",
        "import shap"
      ],
      "metadata": {
        "colab": {
          "base_uri": "https://localhost:8080/"
        },
        "id": "S2d7sESBRv9U",
        "outputId": "4cc0321d-b852-4ba1-809f-2254ee9aefc2"
      },
      "execution_count": null,
      "outputs": [
        {
          "output_type": "stream",
          "name": "stdout",
          "text": [
            "Looking in indexes: https://pypi.org/simple, https://us-python.pkg.dev/colab-wheels/public/simple/\n",
            "Requirement already satisfied: shap in /usr/local/lib/python3.8/dist-packages (0.41.0)\n",
            "Requirement already satisfied: scikit-learn in /usr/local/lib/python3.8/dist-packages (from shap) (1.0.2)\n",
            "Requirement already satisfied: scipy in /usr/local/lib/python3.8/dist-packages (from shap) (1.7.3)\n",
            "Requirement already satisfied: numpy in /usr/local/lib/python3.8/dist-packages (from shap) (1.21.6)\n",
            "Requirement already satisfied: packaging>20.9 in /usr/local/lib/python3.8/dist-packages (from shap) (21.3)\n",
            "Requirement already satisfied: tqdm>4.25.0 in /usr/local/lib/python3.8/dist-packages (from shap) (4.64.1)\n",
            "Requirement already satisfied: numba in /usr/local/lib/python3.8/dist-packages (from shap) (0.56.4)\n",
            "Requirement already satisfied: pandas in /usr/local/lib/python3.8/dist-packages (from shap) (1.3.5)\n",
            "Requirement already satisfied: slicer==0.0.7 in /usr/local/lib/python3.8/dist-packages (from shap) (0.0.7)\n",
            "Requirement already satisfied: cloudpickle in /usr/local/lib/python3.8/dist-packages (from shap) (1.5.0)\n",
            "Requirement already satisfied: pyparsing!=3.0.5,>=2.0.2 in /usr/local/lib/python3.8/dist-packages (from packaging>20.9->shap) (3.0.9)\n",
            "Requirement already satisfied: importlib-metadata in /usr/local/lib/python3.8/dist-packages (from numba->shap) (4.13.0)\n",
            "Requirement already satisfied: setuptools in /usr/local/lib/python3.8/dist-packages (from numba->shap) (57.4.0)\n",
            "Requirement already satisfied: llvmlite<0.40,>=0.39.0dev0 in /usr/local/lib/python3.8/dist-packages (from numba->shap) (0.39.1)\n",
            "Requirement already satisfied: zipp>=0.5 in /usr/local/lib/python3.8/dist-packages (from importlib-metadata->numba->shap) (3.11.0)\n",
            "Requirement already satisfied: pytz>=2017.3 in /usr/local/lib/python3.8/dist-packages (from pandas->shap) (2022.6)\n",
            "Requirement already satisfied: python-dateutil>=2.7.3 in /usr/local/lib/python3.8/dist-packages (from pandas->shap) (2.8.2)\n",
            "Requirement already satisfied: six>=1.5 in /usr/local/lib/python3.8/dist-packages (from python-dateutil>=2.7.3->pandas->shap) (1.15.0)\n",
            "Requirement already satisfied: threadpoolctl>=2.0.0 in /usr/local/lib/python3.8/dist-packages (from scikit-learn->shap) (3.1.0)\n",
            "Requirement already satisfied: joblib>=0.11 in /usr/local/lib/python3.8/dist-packages (from scikit-learn->shap) (1.2.0)\n"
          ]
        }
      ]
    },
    {
      "cell_type": "code",
      "source": [
        "explainer = shap.TreeExplainer(model_lgbm)\n",
        "shap_values=explainer.shap_values(X_test)\n",
        "shap.summary_plot(shap_values[1],X_test)"
      ],
      "metadata": {
        "colab": {
          "base_uri": "https://localhost:8080/",
          "height": 271
        },
        "id": "1d-K0c5RRzmG",
        "outputId": "ed51f86a-7f4b-4c3a-d51b-e2220b004d0e"
      },
      "execution_count": null,
      "outputs": [
        {
          "output_type": "stream",
          "name": "stderr",
          "text": [
            "LightGBM binary classifier with TreeExplainer shap values output has changed to a list of ndarray\n"
          ]
        },
        {
          "output_type": "display_data",
          "data": {
            "text/plain": [
              "<Figure size 576x223.2 with 2 Axes>"
            ],
            "image/png": "[encoded data removed]"
          },
          "metadata": {
            "needs_background": "light"
          }
        }
      ]
    },
    {
      "cell_type": "code",
      "source": [
        "from sklearn.preprocessing import StandardScaler\n",
        "from sklearn.svm import SVC\n",
        "from sklearn.metrics import confusion_matrix\n",
        "from sklearn.metrics import precision_score, recall_score, f1_score, accuracy_score\n",
        "import matplotlib.pyplot as plt\n",
        "#\n",
        "# Standardize the data set\n",
        "#\n",
        "sc = StandardScaler()\n",
        "sc.fit(X_train)\n",
        "X_train_std = sc.transform(X_train)\n",
        "X_test_std = sc.transform(X_test)\n",
        "#\n",
        "# Fit the SVC model\n",
        "#\n",
        "svc = SVC(kernel='linear', C=10.0, random_state=1)\n",
        "svc.fit(X_train, y_train)\n",
        "\n",
        "# Calculate the confusion matrix\n",
        "#\n",
        "conf_matrix = confusion_matrix(y_test,y_test_pred.round())\n",
        "#\n",
        "# Print the confusion matrix using Matplotlib\n",
        "#\n",
        "fig, ax = plt.subplots(figsize=(5, 5))\n",
        "ax.matshow(conf_matrix, cmap=plt.cm.Oranges, alpha=0.3)\n",
        "for i in range(conf_matrix.shape[0]):\n",
        "    for j in range(conf_matrix.shape[1]):\n",
        "        ax.text(x=j, y=i,s=conf_matrix[i, j], va='center', ha='center', size='xx-large')\n",
        " \n",
        "plt.xlabel('Predictions', fontsize=18)\n",
        "plt.ylabel('Actuals', fontsize=18)\n",
        "plt.title('Confusion Matrix', fontsize=18)\n",
        "plt.show()"
      ],
      "metadata": {
        "colab": {
          "base_uri": "https://localhost:8080/",
          "height": 358
        },
        "id": "Od1E-7jrWKCL",
        "outputId": "00215f28-0441-44b7-fd6a-ad4ee90da678"
      },
      "execution_count": null,
      "outputs": [
        {
          "output_type": "display_data",
          "data": {
            "text/plain": [
              "<Figure size 360x360 with 1 Axes>"
            ],
            "image/png": "[encoded data removed]"
          },
          "metadata": {
            "needs_background": "light"
          }
        }
      ]
    }
  ]
}